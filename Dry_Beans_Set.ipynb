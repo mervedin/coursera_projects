{
  "nbformat": 4,
  "nbformat_minor": 0,
  "metadata": {
    "colab": {
      "name": "Dry Beans Set.ipynb",
      "provenance": [],
      "collapsed_sections": [],
      "include_colab_link": true
    },
    "kernelspec": {
      "name": "python3",
      "display_name": "Python 3"
    }
  },
  "cells": [
    {
      "cell_type": "markdown",
      "metadata": {
        "id": "view-in-github",
        "colab_type": "text"
      },
      "source": [
        "<a href=\"https://colab.research.google.com/github/mervedin/coursera_projects/blob/master/Dry_Beans_Set.ipynb\" target=\"_parent\"><img src=\"https://colab.research.google.com/assets/colab-badge.svg\" alt=\"Open In Colab\"/></a>"
      ]
    },
    {
      "cell_type": "markdown",
      "metadata": {
        "id": "OLK2QJML4hyJ"
      },
      "source": [
        "This is the Data Exploration project by me and mentored by Merve Din.\r\n",
        "\r\n",
        "Data Source: https://archive.ics.uci.edu/ml/datasets/Dry+Bean+Dataset#<br>\r\n",
        "\r\n",
        "Data Set Information:\r\n",
        "\r\n",
        "Seven different types of dry beans were used in this research, taking into account the features such as form, shape, type, and structure by the market situation. A computer vision system was developed to distinguish seven different registered varieties of dry beans with similar features in order to obtain uniform seed classification. For the classification model, images of 13,611 grains of 7 different registered dry beans were taken with a high-resolution camera. Bean images obtained by computer vision system were subjected to segmentation and feature extraction stages, and a total of 16 features; 12 dimensions and 4 shape forms, were obtained from the grains.\r\n",
        "\r\n",
        "\r\n",
        "Attribute Information:\r\n",
        "\r\n",
        "1.) Area (A): The area of a bean zone and the number of pixels within its boundaries. <br>\r\n",
        "2.) Perimeter (P): Bean circumference is defined as the length of its border. <br>\r\n",
        "3.) Major axis length (L): The distance between the ends of the longest line that can be drawn from a bean.<br>\r\n",
        "4.) Minor axis length (l): The longest line that can be drawn from the bean while standing perpendicular to the main axis.<br>\r\n",
        "5.) Aspect ratio (K): Defines the relationship between L and l.<br>\r\n",
        "6.) Eccentricity (Ec): Eccentricity of the ellipse having the same moments as the region.<br>\r\n",
        "7.) Convex area (C): Number of pixels in the smallest convex polygon that can contain the area of a bean seed.<br>\r\n",
        "8.) Equivalent diameter (Ed): The diameter of a circle having the same area as a bean seed area.<br>\r\n",
        "9.) Extent (Ex): The ratio of the pixels in the bounding box to the bean area.<br>\r\n",
        "10.)Solidity (S): Also known as convexity. The ratio of the pixels in the convex shell to those found in beans.<br>\r\n",
        "11.)Roundness (R): Calculated with the following formula: (4piA)/(P^2)<br>\r\n",
        "12.)Compactness (CO): Measures the roundness of an object: Ed/L<br>\r\n",
        "13-16.)ShapeFactor1-4 (SF1-4)<br>\r\n",
        "17.)Class (Seker, Barbunya, Bombay, Cali, Dermosan, Horoz and Sira)\r\n",
        "\r\n"
      ]
    },
    {
      "cell_type": "code",
      "metadata": {
        "id": "ypttBF_Z4LOw"
      },
      "source": [
        "#Here I am importing the libraries.\r\n",
        "\r\n",
        "#Pandas is to work with csv tables. \r\n",
        "#Numpy with arrays, and it's a faster tool to work with tables as well. \r\n",
        "#Matplotlib an seaborn are for the viz. I don't really know them yet, but let's see.\r\n",
        "\r\n",
        "import pandas as pd\r\n",
        "import numpy as np\r\n",
        "import matplotlib\r\n",
        "import matplotlib.pyplot as plt\r\n",
        "import seaborn as sns"
      ],
      "execution_count": 3,
      "outputs": []
    },
    {
      "cell_type": "code",
      "metadata": {
        "colab": {
          "base_uri": "https://localhost:8080/",
          "height": 226
        },
        "id": "ctm1ILeg5nBZ",
        "outputId": "c622492e-94b7-43f4-a1f4-2f33be7437c0"
      },
      "source": [
        "#loading my dataset from the Drive\r\n",
        "beans = pd.read_excel('https://github.com/mervedin/coursera_projects/blob/master/Dry_Bean_Dataset.xlsx?raw=true')\r\n",
        "beans.head()"
      ],
      "execution_count": 5,
      "outputs": [
        {
          "output_type": "execute_result",
          "data": {
            "text/html": [
              "<div>\n",
              "<style scoped>\n",
              "    .dataframe tbody tr th:only-of-type {\n",
              "        vertical-align: middle;\n",
              "    }\n",
              "\n",
              "    .dataframe tbody tr th {\n",
              "        vertical-align: top;\n",
              "    }\n",
              "\n",
              "    .dataframe thead th {\n",
              "        text-align: right;\n",
              "    }\n",
              "</style>\n",
              "<table border=\"1\" class=\"dataframe\">\n",
              "  <thead>\n",
              "    <tr style=\"text-align: right;\">\n",
              "      <th></th>\n",
              "      <th>Area</th>\n",
              "      <th>Perimeter</th>\n",
              "      <th>MajorAxisLength</th>\n",
              "      <th>MinorAxisLength</th>\n",
              "      <th>AspectRation</th>\n",
              "      <th>Eccentricity</th>\n",
              "      <th>ConvexArea</th>\n",
              "      <th>EquivDiameter</th>\n",
              "      <th>Extent</th>\n",
              "      <th>Solidity</th>\n",
              "      <th>roundness</th>\n",
              "      <th>Compactness</th>\n",
              "      <th>ShapeFactor1</th>\n",
              "      <th>ShapeFactor2</th>\n",
              "      <th>ShapeFactor3</th>\n",
              "      <th>ShapeFactor4</th>\n",
              "      <th>Class</th>\n",
              "    </tr>\n",
              "  </thead>\n",
              "  <tbody>\n",
              "    <tr>\n",
              "      <th>0</th>\n",
              "      <td>28395</td>\n",
              "      <td>610.291</td>\n",
              "      <td>208.178117</td>\n",
              "      <td>173.888747</td>\n",
              "      <td>1.197191</td>\n",
              "      <td>0.549812</td>\n",
              "      <td>28715</td>\n",
              "      <td>190.141097</td>\n",
              "      <td>0.763923</td>\n",
              "      <td>0.988856</td>\n",
              "      <td>0.958027</td>\n",
              "      <td>0.913358</td>\n",
              "      <td>0.007332</td>\n",
              "      <td>0.003147</td>\n",
              "      <td>0.834222</td>\n",
              "      <td>0.998724</td>\n",
              "      <td>SEKER</td>\n",
              "    </tr>\n",
              "    <tr>\n",
              "      <th>1</th>\n",
              "      <td>28734</td>\n",
              "      <td>638.018</td>\n",
              "      <td>200.524796</td>\n",
              "      <td>182.734419</td>\n",
              "      <td>1.097356</td>\n",
              "      <td>0.411785</td>\n",
              "      <td>29172</td>\n",
              "      <td>191.272750</td>\n",
              "      <td>0.783968</td>\n",
              "      <td>0.984986</td>\n",
              "      <td>0.887034</td>\n",
              "      <td>0.953861</td>\n",
              "      <td>0.006979</td>\n",
              "      <td>0.003564</td>\n",
              "      <td>0.909851</td>\n",
              "      <td>0.998430</td>\n",
              "      <td>SEKER</td>\n",
              "    </tr>\n",
              "    <tr>\n",
              "      <th>2</th>\n",
              "      <td>29380</td>\n",
              "      <td>624.110</td>\n",
              "      <td>212.826130</td>\n",
              "      <td>175.931143</td>\n",
              "      <td>1.209713</td>\n",
              "      <td>0.562727</td>\n",
              "      <td>29690</td>\n",
              "      <td>193.410904</td>\n",
              "      <td>0.778113</td>\n",
              "      <td>0.989559</td>\n",
              "      <td>0.947849</td>\n",
              "      <td>0.908774</td>\n",
              "      <td>0.007244</td>\n",
              "      <td>0.003048</td>\n",
              "      <td>0.825871</td>\n",
              "      <td>0.999066</td>\n",
              "      <td>SEKER</td>\n",
              "    </tr>\n",
              "    <tr>\n",
              "      <th>3</th>\n",
              "      <td>30008</td>\n",
              "      <td>645.884</td>\n",
              "      <td>210.557999</td>\n",
              "      <td>182.516516</td>\n",
              "      <td>1.153638</td>\n",
              "      <td>0.498616</td>\n",
              "      <td>30724</td>\n",
              "      <td>195.467062</td>\n",
              "      <td>0.782681</td>\n",
              "      <td>0.976696</td>\n",
              "      <td>0.903936</td>\n",
              "      <td>0.928329</td>\n",
              "      <td>0.007017</td>\n",
              "      <td>0.003215</td>\n",
              "      <td>0.861794</td>\n",
              "      <td>0.994199</td>\n",
              "      <td>SEKER</td>\n",
              "    </tr>\n",
              "    <tr>\n",
              "      <th>4</th>\n",
              "      <td>30140</td>\n",
              "      <td>620.134</td>\n",
              "      <td>201.847882</td>\n",
              "      <td>190.279279</td>\n",
              "      <td>1.060798</td>\n",
              "      <td>0.333680</td>\n",
              "      <td>30417</td>\n",
              "      <td>195.896503</td>\n",
              "      <td>0.773098</td>\n",
              "      <td>0.990893</td>\n",
              "      <td>0.984877</td>\n",
              "      <td>0.970516</td>\n",
              "      <td>0.006697</td>\n",
              "      <td>0.003665</td>\n",
              "      <td>0.941900</td>\n",
              "      <td>0.999166</td>\n",
              "      <td>SEKER</td>\n",
              "    </tr>\n",
              "  </tbody>\n",
              "</table>\n",
              "</div>"
            ],
            "text/plain": [
              "    Area  Perimeter  MajorAxisLength  ...  ShapeFactor3  ShapeFactor4  Class\n",
              "0  28395    610.291       208.178117  ...      0.834222      0.998724  SEKER\n",
              "1  28734    638.018       200.524796  ...      0.909851      0.998430  SEKER\n",
              "2  29380    624.110       212.826130  ...      0.825871      0.999066  SEKER\n",
              "3  30008    645.884       210.557999  ...      0.861794      0.994199  SEKER\n",
              "4  30140    620.134       201.847882  ...      0.941900      0.999166  SEKER\n",
              "\n",
              "[5 rows x 17 columns]"
            ]
          },
          "metadata": {
            "tags": []
          },
          "execution_count": 5
        }
      ]
    },
    {
      "cell_type": "code",
      "metadata": {
        "colab": {
          "base_uri": "https://localhost:8080/"
        },
        "id": "x-ZER2e36PoH",
        "outputId": "73bfd1a9-5797-4a1c-911b-e0120b3e03b2"
      },
      "source": [
        "beans.shape"
      ],
      "execution_count": 6,
      "outputs": [
        {
          "output_type": "execute_result",
          "data": {
            "text/plain": [
              "(13611, 17)"
            ]
          },
          "metadata": {
            "tags": []
          },
          "execution_count": 6
        }
      ]
    },
    {
      "cell_type": "markdown",
      "metadata": {
        "id": "csqoNo596S4K"
      },
      "source": [
        "The dataset consists of 17 columns, 13611 rows"
      ]
    },
    {
      "cell_type": "code",
      "metadata": {
        "colab": {
          "base_uri": "https://localhost:8080/"
        },
        "id": "EXrOq0qD7x4v",
        "outputId": "c4971f41-41f1-4ff4-efc8-1bc82b35fd71"
      },
      "source": [
        "beans.info()\r\n",
        "#data has no null values, no manipulations are needed"
      ],
      "execution_count": 7,
      "outputs": [
        {
          "output_type": "stream",
          "text": [
            "<class 'pandas.core.frame.DataFrame'>\n",
            "RangeIndex: 13611 entries, 0 to 13610\n",
            "Data columns (total 17 columns):\n",
            " #   Column           Non-Null Count  Dtype  \n",
            "---  ------           --------------  -----  \n",
            " 0   Area             13611 non-null  int64  \n",
            " 1   Perimeter        13611 non-null  float64\n",
            " 2   MajorAxisLength  13611 non-null  float64\n",
            " 3   MinorAxisLength  13611 non-null  float64\n",
            " 4   AspectRation     13611 non-null  float64\n",
            " 5   Eccentricity     13611 non-null  float64\n",
            " 6   ConvexArea       13611 non-null  int64  \n",
            " 7   EquivDiameter    13611 non-null  float64\n",
            " 8   Extent           13611 non-null  float64\n",
            " 9   Solidity         13611 non-null  float64\n",
            " 10  roundness        13611 non-null  float64\n",
            " 11  Compactness      13611 non-null  float64\n",
            " 12  ShapeFactor1     13611 non-null  float64\n",
            " 13  ShapeFactor2     13611 non-null  float64\n",
            " 14  ShapeFactor3     13611 non-null  float64\n",
            " 15  ShapeFactor4     13611 non-null  float64\n",
            " 16  Class            13611 non-null  object \n",
            "dtypes: float64(14), int64(2), object(1)\n",
            "memory usage: 1.8+ MB\n"
          ],
          "name": "stdout"
        }
      ]
    },
    {
      "cell_type": "code",
      "metadata": {
        "id": "mEWkkVudwgWL"
      },
      "source": [
        "beans =beans.rename(columns={'roundness':'Roundness'}, inplace=False)"
      ],
      "execution_count": 8,
      "outputs": []
    },
    {
      "cell_type": "code",
      "metadata": {
        "colab": {
          "base_uri": "https://localhost:8080/"
        },
        "id": "StQWI4JWxGtZ",
        "outputId": "4a68cb8f-9cca-4531-f640-8ae028991f30"
      },
      "source": [
        "beans.isnull().sum()"
      ],
      "execution_count": 9,
      "outputs": [
        {
          "output_type": "execute_result",
          "data": {
            "text/plain": [
              "Area               0\n",
              "Perimeter          0\n",
              "MajorAxisLength    0\n",
              "MinorAxisLength    0\n",
              "AspectRation       0\n",
              "Eccentricity       0\n",
              "ConvexArea         0\n",
              "EquivDiameter      0\n",
              "Extent             0\n",
              "Solidity           0\n",
              "Roundness          0\n",
              "Compactness        0\n",
              "ShapeFactor1       0\n",
              "ShapeFactor2       0\n",
              "ShapeFactor3       0\n",
              "ShapeFactor4       0\n",
              "Class              0\n",
              "dtype: int64"
            ]
          },
          "metadata": {
            "tags": []
          },
          "execution_count": 9
        }
      ]
    },
    {
      "cell_type": "code",
      "metadata": {
        "id": "ubRB-W6M97gz",
        "colab": {
          "base_uri": "https://localhost:8080/"
        },
        "outputId": "bc87822d-618e-41d2-bf05-2c0b8640dc79"
      },
      "source": [
        "#looking for duplicates\r\n",
        "beans.duplicated().sum()"
      ],
      "execution_count": 10,
      "outputs": [
        {
          "output_type": "execute_result",
          "data": {
            "text/plain": [
              "68"
            ]
          },
          "metadata": {
            "tags": []
          },
          "execution_count": 10
        }
      ]
    },
    {
      "cell_type": "code",
      "metadata": {
        "colab": {
          "base_uri": "https://localhost:8080/",
          "height": 479
        },
        "id": "vg4HiDthRdmr",
        "outputId": "4c2cf875-ea74-4cf4-eb28-15344a9a623f"
      },
      "source": [
        "#doesn't look like duplicates to me? I have no idea why it says so\r\n",
        "beans[beans.sort_values(by=['Area']).duplicated()]"
      ],
      "execution_count": 11,
      "outputs": [
        {
          "output_type": "stream",
          "text": [
            "/usr/local/lib/python3.7/dist-packages/ipykernel_launcher.py:2: UserWarning: Boolean Series key will be reindexed to match DataFrame index.\n",
            "  \n"
          ],
          "name": "stderr"
        },
        {
          "output_type": "execute_result",
          "data": {
            "text/html": [
              "<div>\n",
              "<style scoped>\n",
              "    .dataframe tbody tr th:only-of-type {\n",
              "        vertical-align: middle;\n",
              "    }\n",
              "\n",
              "    .dataframe tbody tr th {\n",
              "        vertical-align: top;\n",
              "    }\n",
              "\n",
              "    .dataframe thead th {\n",
              "        text-align: right;\n",
              "    }\n",
              "</style>\n",
              "<table border=\"1\" class=\"dataframe\">\n",
              "  <thead>\n",
              "    <tr style=\"text-align: right;\">\n",
              "      <th></th>\n",
              "      <th>Area</th>\n",
              "      <th>Perimeter</th>\n",
              "      <th>MajorAxisLength</th>\n",
              "      <th>MinorAxisLength</th>\n",
              "      <th>AspectRation</th>\n",
              "      <th>Eccentricity</th>\n",
              "      <th>ConvexArea</th>\n",
              "      <th>EquivDiameter</th>\n",
              "      <th>Extent</th>\n",
              "      <th>Solidity</th>\n",
              "      <th>Roundness</th>\n",
              "      <th>Compactness</th>\n",
              "      <th>ShapeFactor1</th>\n",
              "      <th>ShapeFactor2</th>\n",
              "      <th>ShapeFactor3</th>\n",
              "      <th>ShapeFactor4</th>\n",
              "      <th>Class</th>\n",
              "    </tr>\n",
              "  </thead>\n",
              "  <tbody>\n",
              "    <tr>\n",
              "      <th>5504</th>\n",
              "      <td>33518</td>\n",
              "      <td>702.956</td>\n",
              "      <td>277.571399</td>\n",
              "      <td>154.305581</td>\n",
              "      <td>1.798842</td>\n",
              "      <td>0.831240</td>\n",
              "      <td>34023</td>\n",
              "      <td>206.582775</td>\n",
              "      <td>0.808383</td>\n",
              "      <td>0.985157</td>\n",
              "      <td>0.852377</td>\n",
              "      <td>0.744251</td>\n",
              "      <td>0.008281</td>\n",
              "      <td>0.001567</td>\n",
              "      <td>0.553909</td>\n",
              "      <td>0.996396</td>\n",
              "      <td>HOROZ</td>\n",
              "    </tr>\n",
              "    <tr>\n",
              "      <th>5509</th>\n",
              "      <td>33954</td>\n",
              "      <td>716.750</td>\n",
              "      <td>277.368480</td>\n",
              "      <td>156.356326</td>\n",
              "      <td>1.773951</td>\n",
              "      <td>0.825970</td>\n",
              "      <td>34420</td>\n",
              "      <td>207.922042</td>\n",
              "      <td>0.799482</td>\n",
              "      <td>0.986461</td>\n",
              "      <td>0.830549</td>\n",
              "      <td>0.749624</td>\n",
              "      <td>0.008169</td>\n",
              "      <td>0.001591</td>\n",
              "      <td>0.561936</td>\n",
              "      <td>0.996847</td>\n",
              "      <td>HOROZ</td>\n",
              "    </tr>\n",
              "    <tr>\n",
              "      <th>5548</th>\n",
              "      <td>38427</td>\n",
              "      <td>756.323</td>\n",
              "      <td>306.533886</td>\n",
              "      <td>160.591784</td>\n",
              "      <td>1.908777</td>\n",
              "      <td>0.851782</td>\n",
              "      <td>38773</td>\n",
              "      <td>221.193978</td>\n",
              "      <td>0.796976</td>\n",
              "      <td>0.991076</td>\n",
              "      <td>0.844174</td>\n",
              "      <td>0.721597</td>\n",
              "      <td>0.007977</td>\n",
              "      <td>0.001334</td>\n",
              "      <td>0.520702</td>\n",
              "      <td>0.993905</td>\n",
              "      <td>HOROZ</td>\n",
              "    </tr>\n",
              "    <tr>\n",
              "      <th>5554</th>\n",
              "      <td>38891</td>\n",
              "      <td>791.343</td>\n",
              "      <td>319.499996</td>\n",
              "      <td>156.869619</td>\n",
              "      <td>2.036723</td>\n",
              "      <td>0.871168</td>\n",
              "      <td>39651</td>\n",
              "      <td>222.525412</td>\n",
              "      <td>0.650025</td>\n",
              "      <td>0.980833</td>\n",
              "      <td>0.780422</td>\n",
              "      <td>0.696480</td>\n",
              "      <td>0.008215</td>\n",
              "      <td>0.001192</td>\n",
              "      <td>0.485085</td>\n",
              "      <td>0.987983</td>\n",
              "      <td>HOROZ</td>\n",
              "    </tr>\n",
              "    <tr>\n",
              "      <th>5599</th>\n",
              "      <td>40804</td>\n",
              "      <td>790.802</td>\n",
              "      <td>323.475648</td>\n",
              "      <td>163.287717</td>\n",
              "      <td>1.981016</td>\n",
              "      <td>0.863241</td>\n",
              "      <td>41636</td>\n",
              "      <td>227.932592</td>\n",
              "      <td>0.787570</td>\n",
              "      <td>0.980017</td>\n",
              "      <td>0.819931</td>\n",
              "      <td>0.704636</td>\n",
              "      <td>0.007928</td>\n",
              "      <td>0.001206</td>\n",
              "      <td>0.496512</td>\n",
              "      <td>0.983598</td>\n",
              "      <td>HOROZ</td>\n",
              "    </tr>\n",
              "    <tr>\n",
              "      <th>...</th>\n",
              "      <td>...</td>\n",
              "      <td>...</td>\n",
              "      <td>...</td>\n",
              "      <td>...</td>\n",
              "      <td>...</td>\n",
              "      <td>...</td>\n",
              "      <td>...</td>\n",
              "      <td>...</td>\n",
              "      <td>...</td>\n",
              "      <td>...</td>\n",
              "      <td>...</td>\n",
              "      <td>...</td>\n",
              "      <td>...</td>\n",
              "      <td>...</td>\n",
              "      <td>...</td>\n",
              "      <td>...</td>\n",
              "      <td>...</td>\n",
              "    </tr>\n",
              "    <tr>\n",
              "      <th>7263</th>\n",
              "      <td>63408</td>\n",
              "      <td>1005.966</td>\n",
              "      <td>412.551649</td>\n",
              "      <td>196.337705</td>\n",
              "      <td>2.101235</td>\n",
              "      <td>0.879494</td>\n",
              "      <td>64200</td>\n",
              "      <td>284.136539</td>\n",
              "      <td>0.798791</td>\n",
              "      <td>0.987664</td>\n",
              "      <td>0.787385</td>\n",
              "      <td>0.688730</td>\n",
              "      <td>0.006506</td>\n",
              "      <td>0.000903</td>\n",
              "      <td>0.474348</td>\n",
              "      <td>0.996718</td>\n",
              "      <td>HOROZ</td>\n",
              "    </tr>\n",
              "    <tr>\n",
              "      <th>7277</th>\n",
              "      <td>63882</td>\n",
              "      <td>1004.206</td>\n",
              "      <td>411.263403</td>\n",
              "      <td>198.765453</td>\n",
              "      <td>2.069089</td>\n",
              "      <td>0.875452</td>\n",
              "      <td>64663</td>\n",
              "      <td>285.196579</td>\n",
              "      <td>0.754705</td>\n",
              "      <td>0.987922</td>\n",
              "      <td>0.796054</td>\n",
              "      <td>0.693465</td>\n",
              "      <td>0.006438</td>\n",
              "      <td>0.000918</td>\n",
              "      <td>0.480893</td>\n",
              "      <td>0.995010</td>\n",
              "      <td>HOROZ</td>\n",
              "    </tr>\n",
              "    <tr>\n",
              "      <th>7285</th>\n",
              "      <td>63948</td>\n",
              "      <td>996.497</td>\n",
              "      <td>412.297178</td>\n",
              "      <td>198.877557</td>\n",
              "      <td>2.073121</td>\n",
              "      <td>0.875971</td>\n",
              "      <td>64641</td>\n",
              "      <td>285.343867</td>\n",
              "      <td>0.777909</td>\n",
              "      <td>0.989279</td>\n",
              "      <td>0.809254</td>\n",
              "      <td>0.692083</td>\n",
              "      <td>0.006447</td>\n",
              "      <td>0.000912</td>\n",
              "      <td>0.478979</td>\n",
              "      <td>0.992981</td>\n",
              "      <td>HOROZ</td>\n",
              "    </tr>\n",
              "    <tr>\n",
              "      <th>7339</th>\n",
              "      <td>65766</td>\n",
              "      <td>1035.842</td>\n",
              "      <td>406.416622</td>\n",
              "      <td>207.242369</td>\n",
              "      <td>1.961069</td>\n",
              "      <td>0.860218</td>\n",
              "      <td>66698</td>\n",
              "      <td>289.371512</td>\n",
              "      <td>0.792295</td>\n",
              "      <td>0.986027</td>\n",
              "      <td>0.770237</td>\n",
              "      <td>0.712007</td>\n",
              "      <td>0.006180</td>\n",
              "      <td>0.000980</td>\n",
              "      <td>0.506954</td>\n",
              "      <td>0.994172</td>\n",
              "      <td>HOROZ</td>\n",
              "    </tr>\n",
              "    <tr>\n",
              "      <th>7342</th>\n",
              "      <td>65781</td>\n",
              "      <td>1039.257</td>\n",
              "      <td>409.713859</td>\n",
              "      <td>204.992832</td>\n",
              "      <td>1.998674</td>\n",
              "      <td>0.865834</td>\n",
              "      <td>66762</td>\n",
              "      <td>289.404510</td>\n",
              "      <td>0.642549</td>\n",
              "      <td>0.985306</td>\n",
              "      <td>0.765358</td>\n",
              "      <td>0.706358</td>\n",
              "      <td>0.006228</td>\n",
              "      <td>0.000956</td>\n",
              "      <td>0.498941</td>\n",
              "      <td>0.997221</td>\n",
              "      <td>HOROZ</td>\n",
              "    </tr>\n",
              "  </tbody>\n",
              "</table>\n",
              "<p>68 rows × 17 columns</p>\n",
              "</div>"
            ],
            "text/plain": [
              "       Area  Perimeter  MajorAxisLength  ...  ShapeFactor3  ShapeFactor4  Class\n",
              "5504  33518    702.956       277.571399  ...      0.553909      0.996396  HOROZ\n",
              "5509  33954    716.750       277.368480  ...      0.561936      0.996847  HOROZ\n",
              "5548  38427    756.323       306.533886  ...      0.520702      0.993905  HOROZ\n",
              "5554  38891    791.343       319.499996  ...      0.485085      0.987983  HOROZ\n",
              "5599  40804    790.802       323.475648  ...      0.496512      0.983598  HOROZ\n",
              "...     ...        ...              ...  ...           ...           ...    ...\n",
              "7263  63408   1005.966       412.551649  ...      0.474348      0.996718  HOROZ\n",
              "7277  63882   1004.206       411.263403  ...      0.480893      0.995010  HOROZ\n",
              "7285  63948    996.497       412.297178  ...      0.478979      0.992981  HOROZ\n",
              "7339  65766   1035.842       406.416622  ...      0.506954      0.994172  HOROZ\n",
              "7342  65781   1039.257       409.713859  ...      0.498941      0.997221  HOROZ\n",
              "\n",
              "[68 rows x 17 columns]"
            ]
          },
          "metadata": {
            "tags": []
          },
          "execution_count": 11
        }
      ]
    },
    {
      "cell_type": "code",
      "metadata": {
        "colab": {
          "base_uri": "https://localhost:8080/",
          "height": 414
        },
        "id": "lJMCZStw64HI",
        "outputId": "873f5ab1-879f-4be8-abb8-a22247a3a44d"
      },
      "source": [
        "beans.describe(include='all')"
      ],
      "execution_count": 12,
      "outputs": [
        {
          "output_type": "execute_result",
          "data": {
            "text/html": [
              "<div>\n",
              "<style scoped>\n",
              "    .dataframe tbody tr th:only-of-type {\n",
              "        vertical-align: middle;\n",
              "    }\n",
              "\n",
              "    .dataframe tbody tr th {\n",
              "        vertical-align: top;\n",
              "    }\n",
              "\n",
              "    .dataframe thead th {\n",
              "        text-align: right;\n",
              "    }\n",
              "</style>\n",
              "<table border=\"1\" class=\"dataframe\">\n",
              "  <thead>\n",
              "    <tr style=\"text-align: right;\">\n",
              "      <th></th>\n",
              "      <th>Area</th>\n",
              "      <th>Perimeter</th>\n",
              "      <th>MajorAxisLength</th>\n",
              "      <th>MinorAxisLength</th>\n",
              "      <th>AspectRation</th>\n",
              "      <th>Eccentricity</th>\n",
              "      <th>ConvexArea</th>\n",
              "      <th>EquivDiameter</th>\n",
              "      <th>Extent</th>\n",
              "      <th>Solidity</th>\n",
              "      <th>Roundness</th>\n",
              "      <th>Compactness</th>\n",
              "      <th>ShapeFactor1</th>\n",
              "      <th>ShapeFactor2</th>\n",
              "      <th>ShapeFactor3</th>\n",
              "      <th>ShapeFactor4</th>\n",
              "      <th>Class</th>\n",
              "    </tr>\n",
              "  </thead>\n",
              "  <tbody>\n",
              "    <tr>\n",
              "      <th>count</th>\n",
              "      <td>13611.000000</td>\n",
              "      <td>13611.000000</td>\n",
              "      <td>13611.000000</td>\n",
              "      <td>13611.000000</td>\n",
              "      <td>13611.000000</td>\n",
              "      <td>13611.000000</td>\n",
              "      <td>13611.000000</td>\n",
              "      <td>13611.000000</td>\n",
              "      <td>13611.000000</td>\n",
              "      <td>13611.000000</td>\n",
              "      <td>13611.000000</td>\n",
              "      <td>13611.000000</td>\n",
              "      <td>13611.000000</td>\n",
              "      <td>13611.000000</td>\n",
              "      <td>13611.000000</td>\n",
              "      <td>13611.000000</td>\n",
              "      <td>13611</td>\n",
              "    </tr>\n",
              "    <tr>\n",
              "      <th>unique</th>\n",
              "      <td>NaN</td>\n",
              "      <td>NaN</td>\n",
              "      <td>NaN</td>\n",
              "      <td>NaN</td>\n",
              "      <td>NaN</td>\n",
              "      <td>NaN</td>\n",
              "      <td>NaN</td>\n",
              "      <td>NaN</td>\n",
              "      <td>NaN</td>\n",
              "      <td>NaN</td>\n",
              "      <td>NaN</td>\n",
              "      <td>NaN</td>\n",
              "      <td>NaN</td>\n",
              "      <td>NaN</td>\n",
              "      <td>NaN</td>\n",
              "      <td>NaN</td>\n",
              "      <td>7</td>\n",
              "    </tr>\n",
              "    <tr>\n",
              "      <th>top</th>\n",
              "      <td>NaN</td>\n",
              "      <td>NaN</td>\n",
              "      <td>NaN</td>\n",
              "      <td>NaN</td>\n",
              "      <td>NaN</td>\n",
              "      <td>NaN</td>\n",
              "      <td>NaN</td>\n",
              "      <td>NaN</td>\n",
              "      <td>NaN</td>\n",
              "      <td>NaN</td>\n",
              "      <td>NaN</td>\n",
              "      <td>NaN</td>\n",
              "      <td>NaN</td>\n",
              "      <td>NaN</td>\n",
              "      <td>NaN</td>\n",
              "      <td>NaN</td>\n",
              "      <td>DERMASON</td>\n",
              "    </tr>\n",
              "    <tr>\n",
              "      <th>freq</th>\n",
              "      <td>NaN</td>\n",
              "      <td>NaN</td>\n",
              "      <td>NaN</td>\n",
              "      <td>NaN</td>\n",
              "      <td>NaN</td>\n",
              "      <td>NaN</td>\n",
              "      <td>NaN</td>\n",
              "      <td>NaN</td>\n",
              "      <td>NaN</td>\n",
              "      <td>NaN</td>\n",
              "      <td>NaN</td>\n",
              "      <td>NaN</td>\n",
              "      <td>NaN</td>\n",
              "      <td>NaN</td>\n",
              "      <td>NaN</td>\n",
              "      <td>NaN</td>\n",
              "      <td>3546</td>\n",
              "    </tr>\n",
              "    <tr>\n",
              "      <th>mean</th>\n",
              "      <td>53048.284549</td>\n",
              "      <td>855.283459</td>\n",
              "      <td>320.141867</td>\n",
              "      <td>202.270714</td>\n",
              "      <td>1.583242</td>\n",
              "      <td>0.750895</td>\n",
              "      <td>53768.200206</td>\n",
              "      <td>253.064220</td>\n",
              "      <td>0.749733</td>\n",
              "      <td>0.987143</td>\n",
              "      <td>0.873282</td>\n",
              "      <td>0.799864</td>\n",
              "      <td>0.006564</td>\n",
              "      <td>0.001716</td>\n",
              "      <td>0.643590</td>\n",
              "      <td>0.995063</td>\n",
              "      <td>NaN</td>\n",
              "    </tr>\n",
              "    <tr>\n",
              "      <th>std</th>\n",
              "      <td>29324.095717</td>\n",
              "      <td>214.289696</td>\n",
              "      <td>85.694186</td>\n",
              "      <td>44.970091</td>\n",
              "      <td>0.246678</td>\n",
              "      <td>0.092002</td>\n",
              "      <td>29774.915817</td>\n",
              "      <td>59.177120</td>\n",
              "      <td>0.049086</td>\n",
              "      <td>0.004660</td>\n",
              "      <td>0.059520</td>\n",
              "      <td>0.061713</td>\n",
              "      <td>0.001128</td>\n",
              "      <td>0.000596</td>\n",
              "      <td>0.098996</td>\n",
              "      <td>0.004366</td>\n",
              "      <td>NaN</td>\n",
              "    </tr>\n",
              "    <tr>\n",
              "      <th>min</th>\n",
              "      <td>20420.000000</td>\n",
              "      <td>524.736000</td>\n",
              "      <td>183.601165</td>\n",
              "      <td>122.512653</td>\n",
              "      <td>1.024868</td>\n",
              "      <td>0.218951</td>\n",
              "      <td>20684.000000</td>\n",
              "      <td>161.243764</td>\n",
              "      <td>0.555315</td>\n",
              "      <td>0.919246</td>\n",
              "      <td>0.489618</td>\n",
              "      <td>0.640577</td>\n",
              "      <td>0.002778</td>\n",
              "      <td>0.000564</td>\n",
              "      <td>0.410339</td>\n",
              "      <td>0.947687</td>\n",
              "      <td>NaN</td>\n",
              "    </tr>\n",
              "    <tr>\n",
              "      <th>25%</th>\n",
              "      <td>36328.000000</td>\n",
              "      <td>703.523500</td>\n",
              "      <td>253.303633</td>\n",
              "      <td>175.848170</td>\n",
              "      <td>1.432307</td>\n",
              "      <td>0.715928</td>\n",
              "      <td>36714.500000</td>\n",
              "      <td>215.068003</td>\n",
              "      <td>0.718634</td>\n",
              "      <td>0.985670</td>\n",
              "      <td>0.832096</td>\n",
              "      <td>0.762469</td>\n",
              "      <td>0.005900</td>\n",
              "      <td>0.001154</td>\n",
              "      <td>0.581359</td>\n",
              "      <td>0.993703</td>\n",
              "      <td>NaN</td>\n",
              "    </tr>\n",
              "    <tr>\n",
              "      <th>50%</th>\n",
              "      <td>44652.000000</td>\n",
              "      <td>794.941000</td>\n",
              "      <td>296.883367</td>\n",
              "      <td>192.431733</td>\n",
              "      <td>1.551124</td>\n",
              "      <td>0.764441</td>\n",
              "      <td>45178.000000</td>\n",
              "      <td>238.438026</td>\n",
              "      <td>0.759859</td>\n",
              "      <td>0.988283</td>\n",
              "      <td>0.883157</td>\n",
              "      <td>0.801277</td>\n",
              "      <td>0.006645</td>\n",
              "      <td>0.001694</td>\n",
              "      <td>0.642044</td>\n",
              "      <td>0.996386</td>\n",
              "      <td>NaN</td>\n",
              "    </tr>\n",
              "    <tr>\n",
              "      <th>75%</th>\n",
              "      <td>61332.000000</td>\n",
              "      <td>977.213000</td>\n",
              "      <td>376.495012</td>\n",
              "      <td>217.031741</td>\n",
              "      <td>1.707109</td>\n",
              "      <td>0.810466</td>\n",
              "      <td>62294.000000</td>\n",
              "      <td>279.446467</td>\n",
              "      <td>0.786851</td>\n",
              "      <td>0.990013</td>\n",
              "      <td>0.916869</td>\n",
              "      <td>0.834270</td>\n",
              "      <td>0.007271</td>\n",
              "      <td>0.002170</td>\n",
              "      <td>0.696006</td>\n",
              "      <td>0.997883</td>\n",
              "      <td>NaN</td>\n",
              "    </tr>\n",
              "    <tr>\n",
              "      <th>max</th>\n",
              "      <td>254616.000000</td>\n",
              "      <td>1985.370000</td>\n",
              "      <td>738.860153</td>\n",
              "      <td>460.198497</td>\n",
              "      <td>2.430306</td>\n",
              "      <td>0.911423</td>\n",
              "      <td>263261.000000</td>\n",
              "      <td>569.374358</td>\n",
              "      <td>0.866195</td>\n",
              "      <td>0.994677</td>\n",
              "      <td>0.990685</td>\n",
              "      <td>0.987303</td>\n",
              "      <td>0.010451</td>\n",
              "      <td>0.003665</td>\n",
              "      <td>0.974767</td>\n",
              "      <td>0.999733</td>\n",
              "      <td>NaN</td>\n",
              "    </tr>\n",
              "  </tbody>\n",
              "</table>\n",
              "</div>"
            ],
            "text/plain": [
              "                 Area     Perimeter  ...  ShapeFactor4     Class\n",
              "count    13611.000000  13611.000000  ...  13611.000000     13611\n",
              "unique            NaN           NaN  ...           NaN         7\n",
              "top               NaN           NaN  ...           NaN  DERMASON\n",
              "freq              NaN           NaN  ...           NaN      3546\n",
              "mean     53048.284549    855.283459  ...      0.995063       NaN\n",
              "std      29324.095717    214.289696  ...      0.004366       NaN\n",
              "min      20420.000000    524.736000  ...      0.947687       NaN\n",
              "25%      36328.000000    703.523500  ...      0.993703       NaN\n",
              "50%      44652.000000    794.941000  ...      0.996386       NaN\n",
              "75%      61332.000000    977.213000  ...      0.997883       NaN\n",
              "max     254616.000000   1985.370000  ...      0.999733       NaN\n",
              "\n",
              "[11 rows x 17 columns]"
            ]
          },
          "metadata": {
            "tags": []
          },
          "execution_count": 12
        }
      ]
    },
    {
      "cell_type": "code",
      "metadata": {
        "colab": {
          "base_uri": "https://localhost:8080/"
        },
        "id": "2DQjzUPMUjt4",
        "outputId": "17411bcf-ab1b-45fd-cbe0-e825fb1d1778"
      },
      "source": [
        "beans.skew()"
      ],
      "execution_count": 13,
      "outputs": [
        {
          "output_type": "execute_result",
          "data": {
            "text/plain": [
              "Area               2.952931\n",
              "Perimeter          1.626124\n",
              "MajorAxisLength    1.357815\n",
              "MinorAxisLength    2.238211\n",
              "AspectRation       0.582573\n",
              "Eccentricity      -1.062824\n",
              "ConvexArea         2.941821\n",
              "EquivDiameter      1.948958\n",
              "Extent            -0.895348\n",
              "Solidity          -2.550093\n",
              "Roundness         -0.635749\n",
              "Compactness        0.037115\n",
              "ShapeFactor1      -0.534141\n",
              "ShapeFactor2       0.301226\n",
              "ShapeFactor3       0.242481\n",
              "ShapeFactor4      -2.759483\n",
              "dtype: float64"
            ]
          },
          "metadata": {
            "tags": []
          },
          "execution_count": 13
        }
      ]
    },
    {
      "cell_type": "markdown",
      "metadata": {
        "id": "54ScYeVRuYg7"
      },
      "source": [
        "Probably Area and MinorAxisLenght are the most right skewed, and Solidity with Shape factor has more values on the left??"
      ]
    },
    {
      "cell_type": "code",
      "metadata": {
        "colab": {
          "base_uri": "https://localhost:8080/"
        },
        "id": "6Pu4XrKbUvZy",
        "outputId": "5ba14276-01bb-4339-c06d-6b5758ac4efc"
      },
      "source": [
        "beans.kurt()"
      ],
      "execution_count": 14,
      "outputs": [
        {
          "output_type": "execute_result",
          "data": {
            "text/plain": [
              "Area               10.800814\n",
              "Perimeter           3.588123\n",
              "MajorAxisLength     2.531902\n",
              "MinorAxisLength     6.651067\n",
              "AspectRation        0.113814\n",
              "Eccentricity        1.387456\n",
              "ConvexArea         10.743640\n",
              "EquivDiameter       5.192057\n",
              "Extent              0.643319\n",
              "Solidity           12.799621\n",
              "Roundness           0.374306\n",
              "Compactness        -0.223459\n",
              "ShapeFactor1        0.714355\n",
              "ShapeFactor2       -0.859254\n",
              "ShapeFactor3       -0.144475\n",
              "ShapeFactor4       13.038067\n",
              "dtype: float64"
            ]
          },
          "metadata": {
            "tags": []
          },
          "execution_count": 14
        }
      ]
    },
    {
      "cell_type": "markdown",
      "metadata": {
        "id": "lA4NfXPBuoOk"
      },
      "source": [
        "From what I read  Fisher’s definition of kurtosis  shows us where is the peak.\r\n",
        "So.."
      ]
    },
    {
      "cell_type": "code",
      "metadata": {
        "colab": {
          "base_uri": "https://localhost:8080/",
          "height": 350
        },
        "id": "qQXr3l-XvHVf",
        "outputId": "c1092d2c-ec18-4b6e-c5cf-473707646931"
      },
      "source": [
        "#plotting number of the beans examples for each of the classes\r\n",
        "plt.figure(figsize=(10, 5))\r\n",
        "sns.countplot(data=beans, x='Class')\r\n",
        "plt.title('Types Count')\r\n",
        "plt.show()"
      ],
      "execution_count": 19,
      "outputs": [
        {
          "output_type": "display_data",
          "data": {
            "image/png": "[encoded data removed]",
            "text/plain": [
              "<Figure size 720x360 with 1 Axes>"
            ]
          },
          "metadata": {
            "tags": [],
            "needs_background": "light"
          }
        }
      ]
    },
    {
      "cell_type": "markdown",
      "metadata": {
        "id": "dbuiepRMvrD0"
      },
      "source": [
        "BOMBAY class in underepresented and there might be too much of DERMASON?"
      ]
    },
    {
      "cell_type": "markdown",
      "metadata": {
        "id": "XyP8bD4rwKl6"
      },
      "source": [
        "Initial step is done. <br>\r\n",
        "Renamed 1 columns <br>\r\n",
        "We found no duplicates, no missing values. <br>\r\n",
        "Data types are right <br>\r\n",
        "\r\n"
      ]
    },
    {
      "cell_type": "code",
      "metadata": {
        "colab": {
          "base_uri": "https://localhost:8080/",
          "height": 283
        },
        "id": "_QtKlHuvJjkm",
        "outputId": "ce1067f3-7e5b-48cc-e349-fdb396138f54"
      },
      "source": [
        "plt.plot(beans['Area'])"
      ],
      "execution_count": null,
      "outputs": [
        {
          "output_type": "execute_result",
          "data": {
            "text/plain": [
              "[<matplotlib.lines.Line2D at 0x7fef110b7dd0>]"
            ]
          },
          "metadata": {
            "tags": []
          },
          "execution_count": 21
        },
        {
          "output_type": "display_data",
          "data": {
            "image/png": "[encoded data removed]",
            "text/plain": [
              "<Figure size 432x288 with 1 Axes>"
            ]
          },
          "metadata": {
            "tags": [],
            "needs_background": "light"
          }
        }
      ]
    },
    {
      "cell_type": "code",
      "metadata": {
        "colab": {
          "base_uri": "https://localhost:8080/"
        },
        "id": "5SbYj0OeJyut",
        "outputId": "6acb6fa9-4de5-4c23-a01f-6a70face066c"
      },
      "source": [
        "beans.groupby('Class').count()['Area'].plot"
      ],
      "execution_count": 20,
      "outputs": [
        {
          "output_type": "execute_result",
          "data": {
            "text/plain": [
              "<pandas.plotting._core.PlotAccessor object at 0x7ff1bb732950>"
            ]
          },
          "metadata": {
            "tags": []
          },
          "execution_count": 20
        }
      ]
    },
    {
      "cell_type": "code",
      "metadata": {
        "id": "NJFsfz7UdIg8",
        "outputId": "41337709-fc8e-4db1-c512-2eef2cb4984b",
        "colab": {
          "base_uri": "https://localhost:8080/",
          "height": 334
        }
      },
      "source": [
        "plt.figure(figsize=(10, 5))\n",
        "sns.boxplot(data=beans, y=\"Area\", x=\"Class\");"
      ],
      "execution_count": 26,
      "outputs": [
        {
          "output_type": "display_data",
          "data": {
            "image/png": "[encoded data removed]",
            "text/plain": [
              "<Figure size 720x360 with 1 Axes>"
            ]
          },
          "metadata": {
            "tags": [],
            "needs_background": "light"
          }
        }
      ]
    },
    {
      "cell_type": "code",
      "metadata": {
        "id": "GYLvA0hDdTUS",
        "outputId": "01812190-5a87-43c8-f5aa-1402a15f9599",
        "colab": {
          "base_uri": "https://localhost:8080/"
        }
      },
      "source": [
        "beans.columns"
      ],
      "execution_count": 22,
      "outputs": [
        {
          "output_type": "execute_result",
          "data": {
            "text/plain": [
              "Index(['Area', 'Perimeter', 'MajorAxisLength', 'MinorAxisLength',\n",
              "       'AspectRation', 'Eccentricity', 'ConvexArea', 'EquivDiameter', 'Extent',\n",
              "       'Solidity', 'Roundness', 'Compactness', 'ShapeFactor1', 'ShapeFactor2',\n",
              "       'ShapeFactor3', 'ShapeFactor4', 'Class'],\n",
              "      dtype='object')"
            ]
          },
          "metadata": {
            "tags": []
          },
          "execution_count": 22
        }
      ]
    },
    {
      "cell_type": "code",
      "metadata": {
        "id": "RK6a_ZaoeUK2"
      },
      "source": [
        ""
      ],
      "execution_count": null,
      "outputs": []
    }
  ]
}